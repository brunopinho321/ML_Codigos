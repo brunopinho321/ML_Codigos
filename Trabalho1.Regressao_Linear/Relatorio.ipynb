{
 "cells": [
  {
   "cell_type": "markdown",
   "metadata": {},
   "source": [
    "<p><strong>nome:</strong>Bruno da Silva Pinho</p>\n",
    "<p><strong>matricula:</strong>319466</p><br><br>"
   ]
  },
  {
   "cell_type": "markdown",
   "metadata": {},
   "source": [
    "<h1>Trabalho 1.<br> Regressão Linear </h1>"
   ]
  },
  {
   "cell_type": "markdown",
   "metadata": {},
   "source": [
    "<p>Para essa atividade foram implementado na linguagem python as classes para calcular a regreção linear usando o metodo analitico e o gradiente descendente. A implementação das classes podem ser vistas nos aquivos Regressao_Linear_Metodo_Analitico.py e Regressao_Linear_Gradiente_Descendente.py. Nos arquivos .py tambem foi implementado a classe metricas que contem funções de erro MSE e R2</p>\n",
    "<p>Para os metodos que usam o gradiente, os coeficientes iniciais foram iniciados com 0 </p>\n",
    "<p>O arquivo Regressao_Linear_Metodo_Analitico.py contem a implementação das classes:\n",
    "<ul>\n",
    "    <li>\n",
    "        Regressao_Linear_Simples: serve para fazer a regressão linear univariada\n",
    "    </li>\n",
    "    <li>\n",
    "        Regressao_Linear_Mutipla: serve para fazer a regressão linear mutivariada\n",
    "    </li>\n",
    "    <li>\n",
    "        Regressao_Quadratica: serve para fazer a regressão quadrática \n",
    "    </li>\n",
    "    <li>\n",
    "        Regresso_Cubica: serve para fazer a regressão cubica\n",
    "    </li>\n",
    "</ul>\n",
    "</p>\n",
    "\n",
    "<p>O arquivo Regressao_Linear_Gradiente_Descendente.py contem a implementação das classes:\n",
    "<ul>\n",
    "    <li>\n",
    "        Gradiente_Regressao_Linear_Simples: serve para fazer a regressão linear univariada utilizando gradiente descendente\n",
    "    </li>\n",
    "    <li>\n",
    "        Gradiente_Regressao_Linear_Mutipla: serve para fazer a regressão linear mutivariada utilizando gradiente descedente\n",
    "    </li>\n",
    "    <li>\n",
    "        Gradiente_Estocastico_Regressao_Linear_Mutipla: serve para fazer a regressão linear mutivariada utilizando gradiente descendente estocástico\n",
    "    </li>\n",
    "    <li>\n",
    "        Gradiente_Regressao_Linear_Mutiplar_Reguralizada: serve para fazer a regressão linear mutivariada utilizando gradiente descendente regularizado\n",
    "    </li>\n",
    "</ul>\n",
    "</p>"
   ]
  },
  {
   "cell_type": "markdown",
   "metadata": {},
   "source": [
    "<p> Abaixo foram feito os importes dos arquivos e a separação dos dados em 80% para treino e 20% para teste onde usamos LSTAT para atributo preditor e MEDV para variável alvo.<p>"
   ]
  },
  {
   "cell_type": "code",
   "execution_count": 30,
   "metadata": {
    "tags": []
   },
   "outputs": [],
   "source": [
    "import numpy as np\n",
    "import Regressao_Linear_Gradiente_Descendente\n",
    "import Regressao_Linear_Metodo_Analitico\n",
    "\n",
    "data = np.loadtxt(\"./housing.data\")\n",
    "np.random.shuffle(data)\n",
    "X = data[:, -2]\n",
    "y = data[:, -1]\n",
    "\n",
    "n = X.shape[0]\n",
    "n_train = int(n*0.8)\n",
    "n_test = n - n_train\n",
    "X_train = X[:n_train]\n",
    "X_test = X[-n_test:]\n",
    "y_train = y[:n_train]\n",
    "y_test = y[-n_test:]\n",
    "\n",
    "metricas = Regressao_Linear_Gradiente_Descendente.Metricas()"
   ]
  },
  {
   "cell_type": "markdown",
   "metadata": {},
   "source": [
    "<p> Abaixao são estanciadas cada uma das classes, cada letra representa uma calsse, as letras são equivalentes as letras da questão 1. do Trabalho 1. Nas regressões com gradiente foram escolhido as epocas e as taxas de aprendizados de forma que a predição dessas classe sejam aproximadas as predições dos metodos analiticos.</p>"
   ]
  },
  {
   "cell_type": "code",
   "execution_count": 31,
   "metadata": {},
   "outputs": [],
   "source": [
    "a = Regressao_Linear_Metodo_Analitico.Regressao_Linear_Simples()\n",
    "\n",
    "b = Regressao_Linear_Gradiente_Descendente.Gradiente_Regressao_Linear_Simples(10000, 0.001)\n",
    "\n",
    "c = Regressao_Linear_Metodo_Analitico.Regressao_Linear_Mutipla() \n",
    "\n",
    "d = Regressao_Linear_Gradiente_Descendente.Gradiente_Regressao_Linear_Mutipla(50, 0.01)\n",
    "\n",
    "e = Regressao_Linear_Gradiente_Descendente.Gradiente_Estocastico_Regressao_Linear_Mutipla(50, 0.01)\n",
    "\n",
    "f = Regressao_Linear_Metodo_Analitico.Regressao_Quadratica()\n",
    "\n",
    "g = Regressao_Linear_Metodo_Analitico.Regressao_Cubica()\n",
    "\n",
    "h = Regressao_Linear_Gradiente_Descendente.Gradiente_Regressao_Linear_Mutiplar_Reguralizada(50, 0.01, 1)\n"
   ]
  },
  {
   "cell_type": "markdown",
   "metadata": {},
   "source": [
    "<p>Mesta parte é feito o treinamento utilizando nossas variaveis de treino e as classes instaciadas. Para nosso conjunto de dados utilizamos <b>a, b, f</b> e <b>g</b></p>"
   ]
  },
  {
   "cell_type": "code",
   "execution_count": 32,
   "metadata": {},
   "outputs": [],
   "source": [
    "a.fit(X_train, y_train)\n",
    "\n",
    "b.fit(X_train, y_train)\n",
    "\n",
    "f.fit(X_train, y_train)\n",
    "\n",
    "g.fit(X_train, y_train)\n",
    "\n",
    "\n"
   ]
  },
  {
   "cell_type": "markdown",
   "metadata": {},
   "source": [
    "<p>Para <b>a, b, f</b> e <b>g</b> é repotado MSE, R2 e os coeficientes. Abaixo podemos ver o resultado de cada classe.</p>"
   ]
  },
  {
   "cell_type": "markdown",
   "metadata": {},
   "source": [
    "<p>\n",
    "    <ul>\n",
    "        <li>MSE, R2 e o coeficiente para o <b>a</b>:</li>\n",
    "    </ul>\n",
    "</p>"
   ]
  },
  {
   "cell_type": "code",
   "execution_count": 33,
   "metadata": {
    "scrolled": true
   },
   "outputs": [
    {
     "name": "stdout",
     "output_type": "stream",
     "text": [
      "teste------------------------------------------------\n",
      "MSE = 26.773433221173907\n",
      "R2 = 0.6142381897320108\n",
      "treino-----------------------------------------------\n",
      "MSE = 41.52841083231586\n",
      "R2 = 0.529158902376902\n",
      "------------------------------------------------------\n",
      "coeficiente w = [[34.52147327 -0.92978145]]\n"
     ]
    }
   ],
   "source": [
    "print(\"teste------------------------------------------------\")\n",
    "print(\"MSE = \"+ str(metricas.MSE(y_test, a.predict(X_test))))\n",
    "print(\"R2 = \"+ str(metricas.R2(y_test, a.predict(X_test))))\n",
    "print(\"treino-----------------------------------------------\")\n",
    "print(\"MSE = \"+ str(metricas.MSE(y_train, a.predict(X_train))))\n",
    "print(\"R2 = \"+ str(metricas.R2(y_train, a.predict(X_train))))\n",
    "print(\"------------------------------------------------------\")\n",
    "print(\"coeficiente w = \" + str(a.w))\n",
    "\n"
   ]
  },
  {
   "cell_type": "markdown",
   "metadata": {},
   "source": [
    "<p>\n",
    "    <ul>\n",
    "        <li>MSE, R2 e o coeficiente para o <b>b</b>:</li>\n",
    "    </ul>\n",
    "</p>"
   ]
  },
  {
   "cell_type": "code",
   "execution_count": 34,
   "metadata": {
    "scrolled": true
   },
   "outputs": [
    {
     "name": "stdout",
     "output_type": "stream",
     "text": [
      "teste------------------------------------------------\n",
      "MSE = 28.7855920831115\n",
      "R2 = 0.5852462394387645\n",
      "treino-----------------------------------------------\n",
      "MSE = 43.6693868900102\n",
      "R2 = 0.5048849295282916\n",
      "------------------------------------------------------\n",
      "coeficiente w = [[31.57451254 -0.75677071]]\n"
     ]
    }
   ],
   "source": [
    "print(\"teste------------------------------------------------\")\n",
    "print(\"MSE = \"+ str(metricas.MSE(y_test, b.predict(X_test))))\n",
    "print(\"R2 = \"+ str(metricas.R2(y_test, b.predict(X_test))))\n",
    "print(\"treino-----------------------------------------------\")\n",
    "print(\"MSE = \"+ str(metricas.MSE(y_train, b.predict(X_train))))\n",
    "print(\"R2 = \"+ str(metricas.R2(y_train, b.predict(X_train))))\n",
    "print(\"------------------------------------------------------\")\n",
    "print(\"coeficiente w = \" + str(b.w))\n"
   ]
  },
  {
   "cell_type": "markdown",
   "metadata": {},
   "source": [
    "<p>\n",
    "    <ul>\n",
    "        <li>MSE, R2 e o coeficiente para o <b>f</b>:</li>\n",
    "    </ul>\n",
    "</p>"
   ]
  },
  {
   "cell_type": "code",
   "execution_count": 35,
   "metadata": {
    "scrolled": true
   },
   "outputs": [
    {
     "name": "stdout",
     "output_type": "stream",
     "text": [
      "teste------------------------------------------------\n",
      "MSE = 22.720564399979505\n",
      "R2 = 0.6726334653893062\n",
      "treino-----------------------------------------------\n",
      "MSE = 32.2852194466166\n",
      "R2 = 0.6339564202774999\n",
      "------------------------------------------------------\n",
      "coeficiente w = [43.24973387 -2.37147844  0.04470912]\n"
     ]
    }
   ],
   "source": [
    "print(\"teste------------------------------------------------\")\n",
    "print(\"MSE = \"+ str(metricas.MSE(y_test, f.predict(X_test))))\n",
    "print(\"R2 = \"+ str(metricas.R2(y_test, f.predict(X_test))))\n",
    "print(\"treino-----------------------------------------------\")\n",
    "print(\"MSE = \"+ str(metricas.MSE(y_train, f.predict(X_train))))\n",
    "print(\"R2 = \"+ str(metricas.R2(y_train, f.predict(X_train))))\n",
    "print(\"------------------------------------------------------\")\n",
    "print(\"coeficiente w = \" + str(f.w))"
   ]
  },
  {
   "cell_type": "markdown",
   "metadata": {},
   "source": [
    "\n",
    "   <ul>\n",
    "       <li>MSE, R2 e o coeficiente para o <b>g</b>:</li>\n",
    "   </ul>"
   ]
  },
  {
   "cell_type": "code",
   "execution_count": 36,
   "metadata": {},
   "outputs": [
    {
     "name": "stdout",
     "output_type": "stream",
     "text": [
      "teste------------------------------------------------\n",
      "MSE = 23.481808808543104\n",
      "R2 = 0.6616651663789412\n",
      "treino-----------------------------------------------\n",
      "MSE = 30.329668540656336\n",
      "R2 = 0.6561280785848214\n",
      "------------------------------------------------------\n",
      "coeficiente w = [ 4.98977988e+01 -4.12021496e+00  1.63373353e-01 -2.23353437e-03]\n"
     ]
    }
   ],
   "source": [
    "print(\"teste------------------------------------------------\")\n",
    "print(\"MSE = \"+ str(metricas.MSE(y_test, g.predict(X_test))))\n",
    "print(\"R2 = \"+ str(metricas.R2(y_test, g.predict(X_test))))\n",
    "print(\"treino-----------------------------------------------\")\n",
    "print(\"MSE = \"+ str(metricas.MSE(y_train, g.predict(X_train))))\n",
    "print(\"R2 = \"+ str(metricas.R2(y_train, g.predict(X_train))))\n",
    "print(\"------------------------------------------------------\")\n",
    "print(\"coeficiente w = \" + str(g.w))"
   ]
  },
  {
   "cell_type": "markdown",
   "metadata": {},
   "source": [
    "<p>Acima podemos ver que os piore casos foi para o <b>a</b> e <b>b</b>, ja que o <b>b</b> usa gradiente, e o gradiente fuciona como uma aproximação, então seu resulatdo não foi um dos melhores, talvez  esse erro possa diminuir se for mexido no termo de regularização.</p> O <b>a</b> se dá por causa de como os dados estão, eles não estão alinhados como uma linha reta logo o <b>a</b> não vai fazer a melhor predição para esses dados.</p>\n",
    "<p>Para o <b>f</b> temos que o erro deu uma diminuida mas ainda, isso mostra que a predição está se ajustando ao real, porém ainda não é a melhor predição</p>\n",
    "<p>O <b>g</b> foi o que teve o melhor resultado, isso se deve ao fato dele se ajustar melhor aos dados.</p>\n",
    "<p>Podemos ver que os erros de teste estão menores que os erros de treino, logo nossos modelos vão se ajustar melhor a variaveis de teste.</p>\n",
    "<p>Abaixo podemos ver os graficos para <b>a, b, f, g</b> que mostram o comportamento que cada metodo teve em relação aos dados reais.</p>"
   ]
  },
  {
   "cell_type": "code",
   "execution_count": 37,
   "metadata": {
    "scrolled": true
   },
   "outputs": [
    {
     "data": {
      "image/png": "[encoded data removed]",
      "text/plain": [
       "<Figure size 432x288 with 1 Axes>"
      ]
     },
     "metadata": {
      "needs_background": "light"
     },
     "output_type": "display_data"
    }
   ],
   "source": [
    "import matplotlib.pyplot as pl\n",
    "X_ = np.linspace(0., 40.)\n",
    "\n",
    "pl.plot(X, y,\"o\", color=\"red\", fillstyle='full')\n",
    "pl.plot(X_, a.predict(X_))\n",
    "pl.show()"
   ]
  },
  {
   "cell_type": "code",
   "execution_count": 38,
   "metadata": {},
   "outputs": [
    {
     "data": {
      "image/png": "[encoded data removed]",
      "text/plain": [
       "<Figure size 432x288 with 1 Axes>"
      ]
     },
     "metadata": {
      "needs_background": "light"
     },
     "output_type": "display_data"
    }
   ],
   "source": [
    "pl.plot(X, y,\"o\", color=\"red\", fillstyle='full')\n",
    "pl.plot(X_, b.predict(X_))\n",
    "pl.show()"
   ]
  },
  {
   "cell_type": "code",
   "execution_count": 39,
   "metadata": {},
   "outputs": [
    {
     "data": {
      "image/png": "[encoded data removed]",
      "text/plain": [
       "<Figure size 432x288 with 1 Axes>"
      ]
     },
     "metadata": {
      "needs_background": "light"
     },
     "output_type": "display_data"
    }
   ],
   "source": [
    "pl.plot(X, y,\"o\", color=\"red\", fillstyle='full')\n",
    "pl.plot(X_, f.predict(X_))\n",
    "pl.show()"
   ]
  },
  {
   "cell_type": "code",
   "execution_count": 40,
   "metadata": {},
   "outputs": [
    {
     "data": {
      "image/png": "[encoded data removed]",
      "text/plain": [
       "<Figure size 432x288 with 1 Axes>"
      ]
     },
     "metadata": {
      "needs_background": "light"
     },
     "output_type": "display_data"
    }
   ],
   "source": [
    "pl.plot(X, y,\"o\", color=\"red\", fillstyle='full')\n",
    "pl.plot(X_, g.predict(X_))\n",
    "pl.show()"
   ]
  },
  {
   "cell_type": "markdown",
   "metadata": {},
   "source": [
    "<p>A seguir é utilizado o conjunto de dados trab1_data. Tambem é separado 80% para treino e 20% para testes. Foi utilizado a ultima colunda do dados para atributo alvo, e o restando dos dados como  atributo preditor.</p>"
   ]
  },
  {
   "cell_type": "code",
   "execution_count": 12,
   "metadata": {},
   "outputs": [],
   "source": [
    "data = np.loadtxt(\"./trab1_data.txt\")\n",
    "np.random.shuffle(data)\n",
    "y = data[: ,-1]\n",
    "X = data.T[: 5].T\n",
    "n = X.shape[0]\n",
    "n_train = int(n*0.8)\n",
    "n_test = n - n_train\n",
    "X_train = X[:n_train]\n",
    "X_test = X[-n_test:]\n",
    "y_train = y[:n_train]\n",
    "y_test = y[-n_test:]"
   ]
  },
  {
   "cell_type": "markdown",
   "metadata": {},
   "source": [
    "<p>Abaixo é feito o treinamento utilizando nossas variaveis de treino e as classes instaciadas. Para nosso conjunto de dados utilizamos <b>c, d, e</b> e <b>h</b>.</p>"
   ]
  },
  {
   "cell_type": "code",
   "execution_count": 13,
   "metadata": {},
   "outputs": [],
   "source": [
    "c.fit(X_train, y_train)\n",
    "d.fit(X_train, y_train)\n",
    "e.fit(X_train, y_train)\n",
    "h.fit(X_train, y_train)"
   ]
  },
  {
   "cell_type": "markdown",
   "metadata": {},
   "source": [
    "<p>Para <b>c, d, e</b> e <b>h</b> é repotado MSE, R2 e os coeficientes. Abaixo podemos ver o resultado de cada classe.</p>"
   ]
  },
  {
   "cell_type": "markdown",
   "metadata": {},
   "source": [
    "<p>\n",
    "    <ul>\n",
    "        <li>MSE, R2 e o coeficiente para o <b>c</b>:</li>\n",
    "    </ul>\n",
    "</p>"
   ]
  },
  {
   "cell_type": "code",
   "execution_count": 14,
   "metadata": {},
   "outputs": [
    {
     "name": "stdout",
     "output_type": "stream",
     "text": [
      "teste------------------------------------------------\n",
      "MSE = 0.6410210643413213\n",
      "R2 = 0.5151143268989098\n",
      "treino-----------------------------------------------\n",
      "MSE = 0.34002227046905265\n",
      "R2 = 0.7821796130742892\n",
      "------------------------------------------------------\n",
      "coeficiente w = [ 0.89871711  1.58285983 -0.12600506 -0.02525211 -0.06804527 -0.12805251]\n"
     ]
    }
   ],
   "source": [
    "print(\"teste------------------------------------------------\")\n",
    "print(\"MSE = \"+ str(metricas.MSE(y_test, c.predict(X_test))))\n",
    "print(\"R2 = \"+ str(metricas.R2(y_test, c.predict(X_test))))\n",
    "print(\"treino-----------------------------------------------\")\n",
    "print(\"MSE = \"+ str(metricas.MSE(y_train, c.predict(X_train))))\n",
    "print(\"R2 = \"+ str(metricas.R2(y_train, c.predict(X_train))))\n",
    "print(\"------------------------------------------------------\")\n",
    "print(\"coeficiente w = \" + str(c.w))"
   ]
  },
  {
   "cell_type": "markdown",
   "metadata": {},
   "source": [
    "<p>\n",
    "    <ul>\n",
    "        <li>MSE, R2 e o coeficiente para o <b>d</b>:</li>\n",
    "    </ul>\n",
    "</p>"
   ]
  },
  {
   "cell_type": "code",
   "execution_count": 15,
   "metadata": {},
   "outputs": [
    {
     "name": "stdout",
     "output_type": "stream",
     "text": [
      "teste------------------------------------------------\n",
      "MSE = 0.9229107808955869\n",
      "R2 = 0.3018853199985826\n",
      "treino-----------------------------------------------\n",
      "MSE = 0.6232787913119089\n",
      "R2 = 0.6007237193644177\n",
      "------------------------------------------------------\n",
      "coeficiente w = [0.3303788 0.3303788 0.3303788 0.3303788 0.3303788 0.3303788]\n"
     ]
    }
   ],
   "source": [
    "print(\"teste------------------------------------------------\")\n",
    "print(\"MSE = \"+ str(metricas.MSE(y_test, d.predict(X_test))))\n",
    "print(\"R2 = \"+ str(metricas.R2(y_test, d.predict(X_test))))\n",
    "print(\"treino-----------------------------------------------\")\n",
    "print(\"MSE = \"+ str(metricas.MSE(y_train, d.predict(X_train))))\n",
    "print(\"R2 = \"+ str(metricas.R2(y_train, d.predict(X_train))))\n",
    "print(\"------------------------------------------------------\")\n",
    "print(\"coeficiente w = \" + str(d.w))"
   ]
  },
  {
   "cell_type": "markdown",
   "metadata": {},
   "source": [
    "<p>\n",
    "    <ul>\n",
    "        <li>MSE, R2 e o coeficiente para o <b>e</b>:</li>\n",
    "    </ul>\n",
    "</p>"
   ]
  },
  {
   "cell_type": "code",
   "execution_count": 16,
   "metadata": {},
   "outputs": [
    {
     "name": "stdout",
     "output_type": "stream",
     "text": [
      "teste------------------------------------------------\n",
      "MSE = 0.6644173703747059\n",
      "R2 = 0.4974167281300863\n",
      "treino-----------------------------------------------\n",
      "MSE = 0.37047094613070286\n",
      "R2 = 0.7626740015599406\n",
      "------------------------------------------------------\n",
      "coeficiente w = [ 3.37388944e-01  1.24479888e+00  4.03908003e-04  6.58063348e-01\n",
      " -3.60013144e-02 -2.55650973e-02]\n"
     ]
    }
   ],
   "source": [
    "print(\"teste------------------------------------------------\")\n",
    "print(\"MSE = \"+ str(metricas.MSE(y_test, e.predict(X_test))))\n",
    "print(\"R2 = \"+ str(metricas.R2(y_test, e.predict(X_test))))\n",
    "print(\"treino-----------------------------------------------\")\n",
    "print(\"MSE = \"+ str(metricas.MSE(y_train, e.predict(X_train))))\n",
    "print(\"R2 = \"+ str(metricas.R2(y_train, e.predict(X_train))))\n",
    "print(\"------------------------------------------------------\")\n",
    "print(\"coeficiente w = \" + str(e.w))\n"
   ]
  },
  {
   "cell_type": "markdown",
   "metadata": {},
   "source": [
    "<p>\n",
    "    <ul>\n",
    "        <li>MSE, R2 e o coeficiente para o <b>h</b>:</li>\n",
    "    </ul>\n",
    "</p>"
   ]
  },
  {
   "cell_type": "code",
   "execution_count": 17,
   "metadata": {},
   "outputs": [
    {
     "name": "stdout",
     "output_type": "stream",
     "text": [
      "teste------------------------------------------------\n",
      "MSE = 0.9334696156026454\n",
      "R2 = 0.29389833180287317\n",
      "treino-----------------------------------------------\n",
      "MSE = 0.6190242329395496\n",
      "R2 = 0.6034492159902325\n",
      "------------------------------------------------------\n",
      "coeficiente w = [0.16472288 0.34714118 0.34714118 0.34714118 0.34714118 0.34714118]\n"
     ]
    }
   ],
   "source": [
    "print(\"teste------------------------------------------------\")\n",
    "print(\"MSE = \"+ str(metricas.MSE(y_test, h.predict(X_test))))\n",
    "print(\"R2 = \"+ str(metricas.R2(y_test, h.predict(X_test))))\n",
    "print(\"treino-----------------------------------------------\")\n",
    "print(\"MSE = \"+ str(metricas.MSE(y_train, h.predict(X_train))))\n",
    "print(\"R2 = \"+ str(metricas.R2(y_train, h.predict(X_train))))\n",
    "print(\"------------------------------------------------------\")\n",
    "print(\"coeficiente w = \" + str(h.w))"
   ]
  },
  {
   "cell_type": "markdown",
   "metadata": {},
   "source": [
    "<p>Podemos ver que os erros de teste estão altos, e os erros de treino estão baixos isso mostra que temos um problema de Alto Variância, conhecido como Overfitting. Isso mostra que o modelo esta se ajustando demasiadamente aos dados de treinos.</p>"
   ]
  },
  {
   "cell_type": "markdown",
   "metadata": {},
   "source": [
    "<p>Abaixo temos o plote de dois graficos, onde temos MSE em relação a cada epoca que foi utilizada em <b>d</b> e <b>e</b>.</p>\n",
    "<p>O primeiro grafico represenda a relação do MSE com as epocas de <b>d</b> e o segundo com o de <b>e</b>.</p>\n",
    "<p>Neste caso podemos observar que o no primeiro grafico o erro diminuiu rapidamente em relação as epocas,a curva do grafico se aproxima de um angulo de noventa graus. Ja no segundo grafico o erro decresceu de forma mais demorada em relação as epocas, como pode ser visto a sua curvatura é bem maior do que a do primeiro grafico. </p>"
   ]
  },
  {
   "cell_type": "code",
   "execution_count": 18,
   "metadata": {},
   "outputs": [
    {
     "data": {
      "image/png": "[encoded data removed]",
      "text/plain": [
       "<Figure size 432x288 with 1 Axes>"
      ]
     },
     "metadata": {
      "needs_background": "light"
     },
     "output_type": "display_data"
    }
   ],
   "source": [
    "\n",
    "\n",
    "pl.plot(d.epocas_, metricas.MSE_(y_train, d.y_predic_epocas))\n",
    "pl.show()"
   ]
  },
  {
   "cell_type": "code",
   "execution_count": 19,
   "metadata": {},
   "outputs": [
    {
     "data": {
      "image/png": "[encoded data removed]",
      "text/plain": [
       "<Figure size 432x288 with 1 Axes>"
      ]
     },
     "metadata": {
      "needs_background": "light"
     },
     "output_type": "display_data"
    }
   ],
   "source": [
    "pl.plot(e.epocas_, metricas.MSE_(y_train, e.y_predic_epocas))\n",
    "pl.show()"
   ]
  },
  {
   "cell_type": "markdown",
   "metadata": {},
   "source": [
    "<p>Abaixo é mostrado os graficos para o método <b>h</b>,\n",
    "onde temos a relação do MSE com o termo de regularização, onde é dado os valore 1,2,3,4,5 para o termo.</p>\n",
    "<p> É possivel notar que quando o termo aumenta o erro para as variaveis de treino esta aumetando, porem os erro para os testes estaá diminuindo. Isso implica que para ter uma melhor predição o seria melhor usar o valor 5 para o termo de regularização</p>"
   ]
  },
  {
   "cell_type": "code",
   "execution_count": 41,
   "metadata": {},
   "outputs": [
    {
     "data": {
      "image/png": "[encoded data removed]",
      "text/plain": [
       "<Figure size 432x288 with 1 Axes>"
      ]
     },
     "metadata": {
      "needs_background": "light"
     },
     "output_type": "display_data"
    }
   ],
   "source": [
    "termo_de_regularizacao = [1,2,3,4,5]\n",
    "mse1 = []\n",
    "mse2 = []\n",
    "for i in termo_de_regularizacao:\n",
    "    h.termo_regularizacao = i\n",
    "    h.fit(X_train, y_train)\n",
    "    mse1.append(metricas.MSE(y_train , h.predict(X_train)))\n",
    "    mse2.append(metricas.MSE(y_test , h.predict(X_test)))\n",
    "pl.plot(termo_de_regularizacao, mse1, color=\"orange\")\n",
    "pl.plot(termo_de_regularizacao, mse2)\n",
    "pl.show()"
   ]
  },
  {
   "cell_type": "code",
   "execution_count": 42,
   "metadata": {},
   "outputs": [
    {
     "data": {
      "image/png": "[encoded data removed]",
      "text/plain": [
       "<Figure size 432x288 with 1 Axes>"
      ]
     },
     "metadata": {
      "needs_background": "light"
     },
     "output_type": "display_data"
    }
   ],
   "source": [
    "pl.plot(termo_de_regularizacao, mse1, color='orange')\n",
    "pl.show()"
   ]
  },
  {
   "cell_type": "code",
   "execution_count": 22,
   "metadata": {},
   "outputs": [
    {
     "data": {
      "image/png": "[encoded data removed]",
      "text/plain": [
       "<Figure size 432x288 with 1 Axes>"
      ]
     },
     "metadata": {
      "needs_background": "light"
     },
     "output_type": "display_data"
    }
   ],
   "source": [
    "pl.plot(termo_de_regularizacao, mse2)\n",
    "pl.show()"
   ]
  },
  {
   "cell_type": "code",
   "execution_count": null,
   "metadata": {},
   "outputs": [],
   "source": []
  }
 ],
 "metadata": {
  "kernelspec": {
   "display_name": "Python 3",
   "language": "python",
   "name": "python3"
  },
  "language_info": {
   "codemirror_mode": {
    "name": "ipython",
    "version": 3
   },
   "file_extension": ".py",
   "mimetype": "text/x-python",
   "name": "python",
   "nbconvert_exporter": "python",
   "pygments_lexer": "ipython3",
   "version": "3.8.5"
  }
 },
 "nbformat": 4,
 "nbformat_minor": 4
}
